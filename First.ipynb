{
  "nbformat": 4,
  "nbformat_minor": 0,
  "metadata": {
    "colab": {
      "provenance": [],
      "authorship_tag": "ABX9TyNdoXENvyAf768+9bT5051K",
      "include_colab_link": true
    },
    "kernelspec": {
      "name": "python3",
      "display_name": "Python 3"
    },
    "language_info": {
      "name": "python"
    }
  },
  "cells": [
    {
      "cell_type": "markdown",
      "metadata": {
        "id": "view-in-github",
        "colab_type": "text"
      },
      "source": [
        "<a href=\"https://colab.research.google.com/github/pkanyu/Colab-Notebooks/blob/main/First.ipynb\" target=\"_parent\"><img src=\"https://colab.research.google.com/assets/colab-badge.svg\" alt=\"Open In Colab\"/></a>"
      ]
    },
    {
      "cell_type": "code",
      "execution_count": null,
      "metadata": {
        "colab": {
          "base_uri": "https://localhost:8080/"
        },
        "id": "nab1ZI1R0H6o",
        "outputId": "09d91d3f-2a20-4abe-cc36-d7413673c387"
      },
      "outputs": [
        {
          "output_type": "stream",
          "name": "stdout",
          "text": [
            "Welcome to Python Programming\n"
          ]
        }
      ],
      "source": [
        "print(\"Welcome to Python Programming\")"
      ]
    },
    {
      "cell_type": "code",
      "source": [
        "# print(\"welcome to python programming\")\n",
        "# This is a python comment: It is ignored during program execution.\n",
        "# It is mainly used for code readability"
      ],
      "metadata": {
        "id": "kXQEdsG925gC"
      },
      "execution_count": null,
      "outputs": []
    },
    {
      "cell_type": "code",
      "source": [
        "# 1. Outputting values to the screen. We use the print()\n",
        "# a) Outputting a number -> No double/single quotes included\n",
        "print(500)"
      ],
      "metadata": {
        "colab": {
          "base_uri": "https://localhost:8080/"
        },
        "id": "cG77UYmQ3ayg",
        "outputId": "adfea2b9-6549-407c-f55f-f6a117b6d4ba"
      },
      "execution_count": null,
      "outputs": [
        {
          "output_type": "stream",
          "name": "stdout",
          "text": [
            "500\n"
          ]
        }
      ]
    },
    {
      "cell_type": "code",
      "source": [
        "# b) Outputting a text(sequence of characters)\n",
        "print(\"Artificial Intelligence\")"
      ],
      "metadata": {
        "colab": {
          "base_uri": "https://localhost:8080/"
        },
        "id": "pVWj6PHl4j-W",
        "outputId": "e2b08fca-736f-4460-e5af-d2465d4f1f84"
      },
      "execution_count": null,
      "outputs": [
        {
          "output_type": "stream",
          "name": "stdout",
          "text": [
            "Artificial Intelligence\n"
          ]
        }
      ]
    },
    {
      "cell_type": "code",
      "source": [
        "# My first error ever...\n",
        "# Outputting a text without quotes\n",
        "\n",
        "print(\"Erick\")"
      ],
      "metadata": {
        "colab": {
          "base_uri": "https://localhost:8080/"
        },
        "id": "T3uaZY7a5UGK",
        "outputId": "99d4678a-1bbe-4efd-f854-9d10828d997d"
      },
      "execution_count": null,
      "outputs": [
        {
          "output_type": "stream",
          "name": "stdout",
          "text": [
            "Erick\n"
          ]
        }
      ]
    },
    {
      "cell_type": "code",
      "source": [
        "# Both text and number we use a comma(,) to join the two.\n",
        "print(\"Artificial Intelligence\",500)"
      ],
      "metadata": {
        "colab": {
          "base_uri": "https://localhost:8080/"
        },
        "id": "SnvnKZav55my",
        "outputId": "fda44058-a66d-4488-dae4-869c25cc7a15"
      },
      "execution_count": null,
      "outputs": [
        {
          "output_type": "stream",
          "name": "stdout",
          "text": [
            "Artificial Intelligence 500\n"
          ]
        }
      ]
    },
    {
      "cell_type": "code",
      "source": [
        "# PROGRAMMING BUILDING BLOCKS\n",
        "# We 5 Blocks\n",
        "# 1. VARIABLES\n",
        "# 2. DATA TYPES\n",
        "# 3. DECISION MAKING\n",
        "# 4. LOOPING/ ITERATIONS\n",
        "# 5. FUNCTIONS\n",
        "\n",
        "\n",
        "# 6. OBJECT ORIENTED PROGRAMMING\n",
        "# 7. EXCEPTION HANDLING"
      ],
      "metadata": {
        "id": "zYRRPXAI6bZw"
      },
      "execution_count": null,
      "outputs": []
    }
  ]
}
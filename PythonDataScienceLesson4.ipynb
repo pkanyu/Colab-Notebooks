{
  "nbformat": 4,
  "nbformat_minor": 0,
  "metadata": {
    "colab": {
      "provenance": [],
      "authorship_tag": "ABX9TyOh49xjplFc036HWU0G9tDP",
      "include_colab_link": true
    },
    "kernelspec": {
      "name": "python3",
      "display_name": "Python 3"
    },
    "language_info": {
      "name": "python"
    }
  },
  "cells": [
    {
      "cell_type": "markdown",
      "metadata": {
        "id": "view-in-github",
        "colab_type": "text"
      },
      "source": [
        "<a href=\"https://colab.research.google.com/github/pkanyu/Colab-Notebooks/blob/main/PythonDataScienceLesson4.ipynb\" target=\"_parent\"><img src=\"https://colab.research.google.com/assets/colab-badge.svg\" alt=\"Open In Colab\"/></a>"
      ]
    },
    {
      "cell_type": "code",
      "execution_count": null,
      "metadata": {
        "colab": {
          "base_uri": "https://localhost:8080/"
        },
        "id": "h4QkUgSmH47r",
        "outputId": "ac035903-fd6b-43e0-b21d-33d6683b05f7"
      },
      "outputs": [
        {
          "output_type": "stream",
          "name": "stdout",
          "text": [
            "False\n"
          ]
        }
      ],
      "source": [
        "# LOGICAL OPERATORS:\n",
        "# Comparison Operator form conditions(True/False)\n",
        "# Check relationship between conditions(and, or , not)\n",
        "\n",
        "username = \"coder\"\n",
        "password = \"coder123\"\n",
        "\n",
        "\n",
        "# and -> Returns True only when BOTH conditions returns True otherwise it returns false\n",
        "print(username == \"admin\" and  password == \"coder123\")"
      ]
    }
  ]
}
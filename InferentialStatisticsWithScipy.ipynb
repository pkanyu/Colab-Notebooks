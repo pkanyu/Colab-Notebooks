{
  "nbformat": 4,
  "nbformat_minor": 0,
  "metadata": {
    "colab": {
      "provenance": [],
      "authorship_tag": "ABX9TyMfcNjFhQ59r3pBn0UbrI6I",
      "include_colab_link": true
    },
    "kernelspec": {
      "name": "python3",
      "display_name": "Python 3"
    },
    "language_info": {
      "name": "python"
    }
  },
  "cells": [
    {
      "cell_type": "markdown",
      "metadata": {
        "id": "view-in-github",
        "colab_type": "text"
      },
      "source": [
        "<a href=\"https://colab.research.google.com/github/pkanyu/Colab-Notebooks/blob/main/InferentialStatisticsWithScipy.ipynb\" target=\"_parent\"><img src=\"https://colab.research.google.com/assets/colab-badge.svg\" alt=\"Open In Colab\"/></a>"
      ]
    },
    {
      "cell_type": "code",
      "execution_count": null,
      "metadata": {
        "id": "v_l0RInZ3knX"
      },
      "outputs": [],
      "source": [
        "# Descriptive Analysis: Realize current facts, patterns, trends in the Datasets\n",
        "# Descriptive Statistics: e,g Mean,Mode,Median...\n",
        "# Correlation Analysis\n",
        "# Data Visualization"
      ]
    },
    {
      "cell_type": "markdown",
      "source": [],
      "metadata": {
        "id": "zMfkKgF4jq3c"
      }
    },
    {
      "cell_type": "code",
      "source": [
        "# Diagnostic/Inferential Analysis: Realize Reasons WHY we are experiencing the\n",
        "# current trends, pattern, facts\n",
        "\n",
        "# Hypothesis Testing"
      ],
      "metadata": {
        "id": "BLdS_Q6N4ls5"
      },
      "execution_count": null,
      "outputs": []
    },
    {
      "cell_type": "code",
      "source": [
        "# Machine and Deep Learning : Future Trends WILL"
      ],
      "metadata": {
        "id": "-Qze9ovH4_dB"
      },
      "execution_count": null,
      "outputs": []
    },
    {
      "cell_type": "code",
      "source": [
        "# Prescriptive Analysis: Actions\n",
        "# Decision Making"
      ],
      "metadata": {
        "id": "cuFOeWne5NYu"
      },
      "execution_count": null,
      "outputs": []
    },
    {
      "cell_type": "code",
      "source": [
        "# Population Entire Group: Expensive,Time Consuming -> Accurate\n",
        "# Sample: Represent a Population(Evenly Distributed)"
      ],
      "metadata": {
        "id": "gM4oK7C25ZjG"
      },
      "execution_count": null,
      "outputs": []
    },
    {
      "cell_type": "code",
      "source": [
        "# Hypothesis: Proposed explanation of a phenomenon(idea)\n",
        "# Hypothesis Test: Possibility of the occurence of a hypothesis by any change\n",
        "\n",
        "# E,g: 2023 KCSE Results Girls Performed better than Boys\n",
        "# Testing: Is there a possiblility that girls performed better than Boys?\n",
        "# Accept or Reject the Hypothesis"
      ],
      "metadata": {
        "id": "Zz-wwB9251GK"
      },
      "execution_count": null,
      "outputs": []
    },
    {
      "cell_type": "code",
      "source": [
        "# Null Hypothesis(Ho): Proposed Explanation(Current Explanation) e,g Girls better\n",
        "# Alternate Hypothesis: Contratiction/Opposite of the Null Hypothesis e,g Boys Better\n",
        "\n",
        "# GOAL: Accept Null Hypothesis and Reject Alternate(based on the confidence) and vice versa"
      ],
      "metadata": {
        "id": "MeqBB5yY62CS"
      },
      "execution_count": null,
      "outputs": []
    },
    {
      "cell_type": "code",
      "source": [
        "# Confidence(Probability Values Maximum(1))\n",
        "# Alpha + Confidence = 1\n",
        "# Alpha(u): Risk of occurrence Default: 0.05\n",
        "# When Alpha Increases, The Confidence Reduces and Vice Versa"
      ],
      "metadata": {
        "id": "YFK0pMep7gym"
      },
      "execution_count": null,
      "outputs": []
    },
    {
      "cell_type": "code",
      "source": [
        "# Alpha -> 0.03\n",
        "# Confidence -> 0.97"
      ],
      "metadata": {
        "id": "oLFfj_nr8HCk"
      },
      "execution_count": null,
      "outputs": []
    },
    {
      "cell_type": "code",
      "source": [
        "# Scenario 1:\n",
        "# When Alpha Increases: The Confidence Reduces\n",
        "# Therefore: We Don't have enough Confidence(evidence) to Reject the Null Hypothesis\n",
        "# The NULL Hypothesis is ACCEPTED"
      ],
      "metadata": {
        "id": "LUtxH2qL8QHG"
      },
      "execution_count": null,
      "outputs": []
    },
    {
      "cell_type": "code",
      "source": [
        "# Scenario 2:\n",
        "# When Alpha Reduces: The Confidence Increases\n",
        "# Therefore: We have sufficient confidence(evidence) to Reject the Null Hypothesis\n",
        "# The NULL Hypothesis is REJECTED"
      ],
      "metadata": {
        "id": "gRXBdnGK8umx"
      },
      "execution_count": null,
      "outputs": []
    },
    {
      "cell_type": "code",
      "source": [
        "# 1. One Sample Testing: Determines whether a Sample Represents\n",
        "import pandas\n",
        "data = pandas.read_csv('https://modcom.co.ke/data/datasets/schoolcleaned.csv',parse_dates =[\"bday\",\"enrolldate\",\"expgradate\"])"
      ],
      "metadata": {
        "id": "jxNG-3OI9inP"
      },
      "execution_count": null,
      "outputs": []
    },
    {
      "cell_type": "code",
      "source": [
        "# Lets Pick a Population: Weight\n",
        "\n",
        "population_mean_weight = data['Weight'].mean()"
      ],
      "metadata": {
        "id": "zrFH9M8eA3MT"
      },
      "execution_count": null,
      "outputs": []
    },
    {
      "cell_type": "code",
      "source": [
        "# Lets Pick a sample of 30 students to represent a population of 435\n",
        "\n",
        "sample_30_weight = data['Weight'].sample(5)"
      ],
      "metadata": {
        "id": "r_tWaIW4BXnE"
      },
      "execution_count": null,
      "outputs": []
    },
    {
      "cell_type": "code",
      "source": [
        "# 1sample ttest\n",
        "from scipy.stats import ttest_1samp\n",
        "confidence, alpha = ttest_1samp(a= sample_30_weight,popmean = population_mean_weight)\n",
        "\n",
        "#Condition\n",
        "if alpha < 0.05:\n",
        "  print(\"The Confidence to Reject is Increasing.....\")\n",
        "  print(\"NULL REJECTED\")\n",
        "  print('ALTERNATE ACCEPTED')\n",
        "  print(\"The Sample is NOT Representing the Population\")\n",
        "else:\n",
        "  print(\"The Confidence to Reject is Decreasing.....\")\n",
        "  print(\"NULL ACCEPTED\")\n",
        "  print(\"ALTERNATE REJECTED\")\n",
        "  print(\"The Sample Represents the Population\")\n"
      ],
      "metadata": {
        "colab": {
          "base_uri": "https://localhost:8080/"
        },
        "id": "9De_TXeQBx4U",
        "outputId": "a86e459b-0c4c-4727-83ea-c04a9d4166fd"
      },
      "execution_count": null,
      "outputs": [
        {
          "output_type": "stream",
          "name": "stdout",
          "text": [
            "The Confidence to Reject is Decreasing.....\n",
            "NULL ACCEPTED\n",
            "ALTERNATE REJECTED\n",
            "The Sample Represents the Population\n"
          ]
        }
      ]
    },
    {
      "cell_type": "code",
      "source": [
        "# ho: NULL Hypothesis -> The sample Represents the Population\n",
        "# h1: Alternate       -> The Sample is NOT Representing the Population"
      ],
      "metadata": {
        "id": "k0CxtgaHDmUv"
      },
      "execution_count": null,
      "outputs": []
    },
    {
      "cell_type": "code",
      "source": [
        "# 2. Two Sample TTest\n",
        "\n",
        "# Null: The Two Samples are Equal(Same Mean)\n",
        "# Alternate : The Two Sample are NOT Equal\n",
        "\n",
        "# Panado, Hedex\n",
        "# Astrazeneca, Modanna\n",
        "# Online, Physical\n",
        "\n",
        "# Same Effect to Patient\n",
        "\n",
        "# Lets two samples from the English Column\n",
        "\n",
        "sample1 = data['English'].sample(25)\n",
        "sample2 = data['English'].sample(25)\n"
      ],
      "metadata": {
        "id": "ged02NKID_G0"
      },
      "execution_count": null,
      "outputs": []
    },
    {
      "cell_type": "code",
      "source": [
        "from scipy.stats import ttest_ind\n",
        "confidence,alpha = ttest_ind(a=sample1, b=sample2)\n",
        "\n",
        "if alpha < 0.05:\n",
        "  print(\"Confidence Increasing...\")\n",
        "  print(\"NULL REJECTED\")\n",
        "  print(\"The Sample DONT Have the Same Mean\")\n",
        "else:\n",
        "  print(\"Confidence Decreasing...\")\n",
        "  print(\"NULL ACCEPTED\")\n",
        "  print(\"The Sample Have the Same Mean\")"
      ],
      "metadata": {
        "colab": {
          "base_uri": "https://localhost:8080/"
        },
        "id": "F7L0l9VIFF1d",
        "outputId": "208dfa3f-3aa7-4bad-fcb9-a1d8ae959ef5"
      },
      "execution_count": null,
      "outputs": [
        {
          "output_type": "stream",
          "name": "stdout",
          "text": [
            "Confidence Decreasing...\n",
            "NULL ACCEPTED\n",
            "The Sample Have the Same Mean\n"
          ]
        }
      ]
    },
    {
      "cell_type": "code",
      "source": [
        "# ANOVA -> Analysis of Variance\n",
        "# Machine Learning"
      ],
      "metadata": {
        "id": "bYca7x2BGIhm"
      },
      "execution_count": null,
      "outputs": []
    }
  ]
}